{
 "cells": [
  {
   "cell_type": "code",
   "execution_count": null,
   "id": "further-boost",
   "metadata": {},
   "outputs": [],
   "source": [
    "import pandas as pd"
   ]
  },
  {
   "cell_type": "code",
   "execution_count": null,
   "id": "eastern-triangle",
   "metadata": {},
   "outputs": [],
   "source": [
    "# Change filename to the desired file created with analyzer.py\n",
    "df = pd.read_json (r'output_2021-02-27_17:40:30.txt')\n",
    "print(df)"
   ]
  },
  {
   "cell_type": "code",
   "execution_count": null,
   "id": "requested-assembly",
   "metadata": {},
   "outputs": [],
   "source": [
    "plot_all_words = df.loc[:, df.columns != 'total_tweets'].plot(figsize=(15,10))\n",
    "plot_all_words.set(xlabel=\"Date\", ylabel=\"Tweets with mentions of the keyword\")"
   ]
  },
  {
   "cell_type": "code",
   "execution_count": null,
   "id": "renewable-robert",
   "metadata": {},
   "outputs": [],
   "source": [
    "plot_total_tweets = df['total_tweets'].plot(figsize=(15,10))\n",
    "plot_total_tweets.set(xlabel=\"Date\", ylabel=\"Total amount of Tweets\")"
   ]
  },
  {
   "cell_type": "code",
   "execution_count": null,
   "id": "leading-combining",
   "metadata": {},
   "outputs": [],
   "source": [
    "df['total_of_keywords'] = (df.sum(axis=1)-df['total_tweets'])"
   ]
  },
  {
   "cell_type": "code",
   "execution_count": null,
   "id": "moved-crown",
   "metadata": {},
   "outputs": [],
   "source": [
    "df['keywords_percentage'] = (df['total_of_keywords'] * 100 / df['total_tweets'])"
   ]
  },
  {
   "cell_type": "code",
   "execution_count": null,
   "id": "prime-chaos",
   "metadata": {},
   "outputs": [],
   "source": [
    "plot_total_tweets = df['keywords_percentage'].plot(figsize=(15,10))\n",
    "plot_total_tweets.set(xlabel=\"Date\", ylabel=\"Percentage of keyword tweets out of the total amount of tweets\")"
   ]
  },
  {
   "cell_type": "code",
   "execution_count": null,
   "metadata": {},
   "outputs": [],
   "source": []
  }
 ],
 "metadata": {
  "kernelspec": {
   "display_name": "Python 3.8.5 64-bit",
   "language": "python",
   "name": "python38564bit1c3cc2f43ebb42b89ef4c35331652fc6"
  },
  "language_info": {
   "codemirror_mode": {
    "name": "ipython",
    "version": 3
   },
   "file_extension": ".py",
   "mimetype": "text/x-python",
   "name": "python",
   "nbconvert_exporter": "python",
   "pygments_lexer": "ipython3",
   "version": "3.8.5-final"
  }
 },
 "nbformat": 4,
 "nbformat_minor": 5
}